{
 "cells": [
  {
   "cell_type": "code",
   "execution_count": null,
   "id": "e14ef272-5152-4d35-bda8-ebaa0a0d7931",
   "metadata": {
    "tags": []
   },
   "outputs": [],
   "source": [
    "import os\n",
    "import pandas as pd"
   ]
  },
  {
   "cell_type": "code",
   "execution_count": null,
   "id": "7ec29ea1-d89d-4e4a-b228-f5e1a1ea396d",
   "metadata": {
    "tags": []
   },
   "outputs": [],
   "source": [
    "main_directory = r\"C:\\Users\\Elisha.Zissman\\OneDrive - Social Investment Business\\Desktop\\epc_docs\""
   ]
  },
  {
   "cell_type": "code",
   "execution_count": null,
   "id": "e24728a9-ee9a-408e-b2e4-4d01d0c8a811",
   "metadata": {
    "tags": []
   },
   "outputs": [],
   "source": [
    "#function to extract\n",
    "\n",
    "def extract_certificates_to_dataframe(folder_path): \n",
    "\n",
    "    certificates_file = os.path.join(folder_path, 'certificates.csv') \n",
    "\n",
    "    if os.path.exists(certificates_file): \n",
    "\n",
    "        df = pd.read_csv(certificates_file)  # Assuming certificates file is CSV, adjust accordingly \n",
    "\n",
    "        return df \n",
    "\n",
    "    return None "
   ]
  },
  {
   "cell_type": "code",
   "execution_count": null,
   "id": "d8cd9869-a2be-488b-b77b-b63ce8663a66",
   "metadata": {
    "tags": []
   },
   "outputs": [],
   "source": [
    "dataframes = [] \n",
    "\n",
    "for folder_name in os.listdir(main_directory): \n",
    "\n",
    "    folder_path = os.path.join(main_directory, folder_name) \n",
    "\n",
    "    if os.path.isdir(folder_path): \n",
    "\n",
    "        df = extract_certificates_to_dataframe(folder_path) \n",
    "\n",
    "        if df is not None: \n",
    "\n",
    "            dataframes.append(df) "
   ]
  },
  {
   "cell_type": "code",
   "execution_count": null,
   "id": "07515bae-21fc-407c-b49b-dfe7c56b5a89",
   "metadata": {
    "tags": []
   },
   "outputs": [],
   "source": [
    "combined_dataframe = pd.concat(dataframes, ignore_index=True) "
   ]
  },
  {
   "cell_type": "code",
   "execution_count": null,
   "id": "e4604fdd-edb5-4a03-b881-3c8fd3fd8fa1",
   "metadata": {
    "tags": []
   },
   "outputs": [],
   "source": [
    "epc = combined_dataframe"
   ]
  },
  {
   "cell_type": "code",
   "execution_count": null,
   "id": "584adb89-1306-4612-a351-f979f11ece39",
   "metadata": {
    "tags": []
   },
   "outputs": [],
   "source": [
    "nspl = pd.read_csv('nspl_21.csv')\n",
    "rural_urban = pd.read_csv('rural_urban.csv')\n",
    "imd_dec = pd.read_excel('IMD 2019.xlsx', sheet_name=1)\n",
    "conv = pd.read_csv('lsoa11 to lsoa21.csv')"
   ]
  },
  {
   "cell_type": "code",
   "execution_count": null,
   "id": "40ec38b9-ec27-4426-9557-0ae213018ed4",
   "metadata": {
    "tags": []
   },
   "outputs": [],
   "source": [
    "conv = conv.rename(columns={'LSOA11CD':'lsoa11', 'LSOA21CD':'lsoa21'})\n",
    "conv = conv.drop(columns=['ObjectId',\n",
    " 'LSOA11NM',\n",
    " 'LSOA21NM',\n",
    " 'LAD22CD',\n",
    " 'LAD22NM',\n",
    " 'LAD22NMW'])"
   ]
  },
  {
   "cell_type": "code",
   "execution_count": null,
   "id": "798f8747-850d-4c99-883b-f9ac045f4d5f",
   "metadata": {
    "tags": []
   },
   "outputs": [],
   "source": [
    "epc = epc.rename(columns={'POSTCODE':'pcds'})"
   ]
  },
  {
   "cell_type": "code",
   "execution_count": null,
   "id": "0e00cf39-9154-4fbf-b891-db2381f24a9e",
   "metadata": {
    "tags": []
   },
   "outputs": [],
   "source": [
    "nspl = nspl.drop(columns=['pcd',\n",
    " 'pcd2',\n",
    " 'dointr',\n",
    " 'doterm',\n",
    " 'usertype',\n",
    " 'oseast1m',\n",
    " 'osnrth1m',\n",
    " 'osgrdind',\n",
    " 'oa21',\n",
    " 'cty',\n",
    " 'ced',\n",
    " 'laua',\n",
    " 'ward',\n",
    " 'nhser',\n",
    " 'ctry',\n",
    " 'pcon',\n",
    " 'ttwa',\n",
    " 'itl',\n",
    " 'npark',\n",
    " 'msoa21',\n",
    " 'wz11',\n",
    " 'sicbl',\n",
    " 'bua22',\n",
    " 'ru11ind',\n",
    " 'oac11',\n",
    " 'lat',\n",
    " 'long',\n",
    " 'lep1',\n",
    " 'lep2',\n",
    " 'pfa',\n",
    " 'icb', 'imd'])"
   ]
  },
  {
   "cell_type": "code",
   "execution_count": null,
   "id": "d4cb691e-c860-42a3-917d-897846886612",
   "metadata": {
    "tags": []
   },
   "outputs": [],
   "source": [
    "rural_urban = rural_urban.rename(columns={'LSOA11CD':'lsoa11'})\n",
    "rural_urban = rural_urban.drop(columns=['FID', 'LSOA11NM'])"
   ]
  },
  {
   "cell_type": "code",
   "execution_count": null,
   "id": "59daec44-2e1f-4845-bc08-8f392b2a574c",
   "metadata": {
    "tags": []
   },
   "outputs": [],
   "source": [
    "imd_dec = imd_dec.rename(columns={'LSOA code (2011)':'lsoa11'})"
   ]
  },
  {
   "cell_type": "code",
   "execution_count": null,
   "id": "697a8fff-ded5-4999-9dfa-4e4636676601",
   "metadata": {
    "tags": []
   },
   "outputs": [],
   "source": [
    "merged_df = epc.merge(nspl, on='pcds', how='left')"
   ]
  },
  {
   "cell_type": "code",
   "execution_count": null,
   "id": "df9ae217-bc53-44c2-b0de-1b2280661639",
   "metadata": {
    "tags": []
   },
   "outputs": [],
   "source": [
    "merged_df = merged_df[merged_df['rgn'].notna() & merged_df['rgn'].str.startswith('E', na=False)]"
   ]
  },
  {
   "cell_type": "code",
   "execution_count": null,
   "id": "4f9f822a-4ba2-4415-9f86-b6b6196bc4f5",
   "metadata": {
    "tags": []
   },
   "outputs": [],
   "source": [
    "merged_df = merged_df.merge(conv, on='lsoa21')"
   ]
  },
  {
   "cell_type": "code",
   "execution_count": null,
   "id": "2b7b1e60-b652-4915-baa4-d2e170a09bae",
   "metadata": {
    "tags": []
   },
   "outputs": [],
   "source": [
    "merged_df = merged_df.merge(rural_urban, on='lsoa11', how='left')"
   ]
  },
  {
   "cell_type": "code",
   "execution_count": null,
   "id": "9fb68d63-0906-4d5c-a27d-2faaab103100",
   "metadata": {
    "tags": []
   },
   "outputs": [],
   "source": [
    "merged_df = merged_df.merge(imd_dec, on='lsoa11', how='left')"
   ]
  },
  {
   "cell_type": "code",
   "execution_count": null,
   "id": "a0249479-1b7e-4e9d-b282-3dadcf8f9cde",
   "metadata": {
    "tags": []
   },
   "outputs": [],
   "source": [
    "list(merged_df)"
   ]
  },
  {
   "cell_type": "code",
   "execution_count": null,
   "id": "c1d7a039-b98b-4152-8c56-22af1595c3f7",
   "metadata": {
    "tags": []
   },
   "outputs": [],
   "source": [
    "# filter date and type\n",
    "\n",
    "df = merged_df\n",
    "\n",
    "property_types = ['D1 Non-residential Institutions - Community/Day Centre', 'Community/day centre', 'Non-residential Institutions: Community/Day Centre']\n",
    "df1 = df[df['PROPERTY_TYPE'].isin(property_types)].copy()  # Make a copy of the filtered DataFrame"
   ]
  },
  {
   "cell_type": "code",
   "execution_count": null,
   "id": "385018bb-d2f4-455f-ab04-f358e1e31d36",
   "metadata": {
    "tags": []
   },
   "outputs": [],
   "source": [
    "# Convert 'INSPECTION_DATE' column to datetime\n",
    "df1['INSPECTION_DATE'] = pd.to_datetime(df1['INSPECTION_DATE'])\n",
    " \n",
    "# Sort the DataFrame by 'INSPECTION_DATE' in descending order\n",
    "df1 = df1.sort_values(by='INSPECTION_DATE', ascending=False)"
   ]
  },
  {
   "cell_type": "code",
   "execution_count": null,
   "id": "7f471f6c-f367-4da2-a40f-2263e7155ba1",
   "metadata": {
    "tags": []
   },
   "outputs": [],
   "source": [
    "# Drop duplicates in the 'BUILDING_REFERENCE_NUMBER' column, keeping only the first occurrence (most recent date)\n",
    "df1 = df1.drop_duplicates(subset='BUILDING_REFERENCE_NUMBER', keep='first')"
   ]
  },
  {
   "cell_type": "code",
   "execution_count": null,
   "id": "e5aef67b-10b0-4410-8aa4-4f2c9019a183",
   "metadata": {
    "tags": []
   },
   "outputs": [],
   "source": [
    "# Filter out rows with 'INSPECTION_DATE' after June 30, 2023\n",
    "cutoff_date = pd.to_datetime('2023-06-30')\n",
    "df1 = df1[df1['INSPECTION_DATE'] <= cutoff_date]"
   ]
  },
  {
   "cell_type": "code",
   "execution_count": null,
   "id": "dde19a2a-6b4b-4956-8464-e8dada6b142f",
   "metadata": {},
   "outputs": [],
   "source": []
  },
  {
   "cell_type": "code",
   "execution_count": null,
   "id": "740db9bc-fdfc-46d4-82a2-eff954e528e3",
   "metadata": {},
   "outputs": [],
   "source": []
  },
  {
   "cell_type": "code",
   "execution_count": null,
   "id": "14032f58-985f-4a98-94e3-7a646be43245",
   "metadata": {
    "tags": []
   },
   "outputs": [],
   "source": [
    "#data_new = df1"
   ]
  },
  {
   "cell_type": "code",
   "execution_count": null,
   "id": "a8dab4ee-1c52-49aa-8fce-7e3a06224326",
   "metadata": {
    "tags": []
   },
   "outputs": [],
   "source": [
    "#data_old = pd.read_excel(r\"C:\\Users\\Elisha.Zissman\\Social Investment Business\\Team_Learning&Influence - Documents\\Data Projects\\EPC - ez - oh\\Community EPCs project\\epc_community_buildings.xlsx\")"
   ]
  },
  {
   "cell_type": "code",
   "execution_count": null,
   "id": "98b05a56-fee2-4afa-b0af-2f1ed2f73481",
   "metadata": {
    "tags": []
   },
   "outputs": [],
   "source": [
    "# Identify the new rows based on a specific column\n",
    "#unique_column = 'BUILDING_REFERENCE_NUMBER'  # Replace with the actual column name you want to use\n",
    "\n",
    "# Extract the values of the unique column from both DataFrames\n",
    "#old_values = set(data_old[unique_column])\n",
    "#new_values = set(data_new[unique_column])\n",
    "\n",
    "# Find the values that are in new_values but not in old_values\n",
    "#new_unique_values = new_values - old_values\n",
    "\n",
    "# Create a DataFrame containing the new rows based on the unique column\n",
    "#new_rows = data_new[data_new[unique_column].isin(new_unique_values)]"
   ]
  },
  {
   "cell_type": "code",
   "execution_count": null,
   "id": "27f05d14-1c61-41f5-a501-bcc38e0d45d0",
   "metadata": {
    "tags": []
   },
   "outputs": [],
   "source": [
    "#new_rows_BRN = new_rows"
   ]
  },
  {
   "cell_type": "code",
   "execution_count": null,
   "id": "44c17939-2c55-4e9b-ae10-a2106ea5a6d3",
   "metadata": {
    "tags": []
   },
   "outputs": [],
   "source": [
    "# Identify the new rows based on a specific column\n",
    "#unique_column = 'LMK_KEY'  # Replace with the actual column name you want to use\n",
    "\n",
    "# Extract the values of the unique column from both DataFrames\n",
    "#old_values = set(data_old[unique_column])\n",
    "#new_values = set(data_new[unique_column])\n",
    "\n",
    "# Find the values that are in new_values but not in old_values\n",
    "#new_unique_values = new_values - old_values\n",
    "\n",
    "# Create a DataFrame containing the new rows based on the unique column\n",
    "#new_rows = data_new[data_new[unique_column].isin(new_unique_values)]"
   ]
  },
  {
   "cell_type": "code",
   "execution_count": null,
   "id": "837a3314-b27d-4534-87e2-2c7b5ae36a58",
   "metadata": {
    "tags": []
   },
   "outputs": [],
   "source": [
    "#data_old = data_old.rename(columns={'LMK_KEY_x':'LMK_KEY'})"
   ]
  },
  {
   "cell_type": "code",
   "execution_count": null,
   "id": "20a8a25b-46f8-4d0d-ad57-096723748ad3",
   "metadata": {
    "tags": []
   },
   "outputs": [],
   "source": [
    "#new_rows_LMK = new_rows"
   ]
  },
  {
   "cell_type": "code",
   "execution_count": null,
   "id": "ec40fc88-52c9-4b5b-8a14-a29e213944f8",
   "metadata": {
    "tags": []
   },
   "outputs": [],
   "source": [
    "#new_rows_LMK.head()"
   ]
  },
  {
   "cell_type": "code",
   "execution_count": null,
   "id": "165e97ff-32e8-446f-a48d-973bc3e88784",
   "metadata": {
    "tags": []
   },
   "outputs": [],
   "source": [
    "#list(df)"
   ]
  },
  {
   "cell_type": "code",
   "execution_count": null,
   "id": "1f9cf047-0362-4620-aa9f-b60d8a4a1ce9",
   "metadata": {
    "tags": []
   },
   "outputs": [],
   "source": [
    "#df = new_rows_LMK\n",
    "\n",
    "# Assuming you have a DataFrame named 'df' and the column name is 'country code'\n",
    "#df = df[~df['rgn'].str.startswith(('W', 'S'))]"
   ]
  },
  {
   "cell_type": "code",
   "execution_count": null,
   "id": "66af45ca-c477-4931-96e2-0938a0908b6f",
   "metadata": {
    "tags": []
   },
   "outputs": [],
   "source": [
    "#df"
   ]
  },
  {
   "cell_type": "code",
   "execution_count": null,
   "id": "ad30d42c-e387-4dc7-bcf2-4f9aecb797fa",
   "metadata": {
    "tags": []
   },
   "outputs": [],
   "source": [
    "#df = new_rows_BRN\n",
    "\n",
    "# Assuming you have a DataFrame named 'df' and the column name is 'country code'\n",
    "#df = df[~df['rgn'].str.startswith(('W', 'S'))]"
   ]
  },
  {
   "cell_type": "code",
   "execution_count": null,
   "id": "a504a51e-8f87-4672-92a7-b1a0e545c63c",
   "metadata": {
    "tags": []
   },
   "outputs": [],
   "source": [
    "#df"
   ]
  },
  {
   "cell_type": "code",
   "execution_count": null,
   "id": "d560e558-e6b0-4e0b-8cc7-f68111bb4efa",
   "metadata": {},
   "outputs": [],
   "source": []
  }
 ],
 "metadata": {
  "kernelspec": {
   "display_name": "Python 3 (ipykernel)",
   "language": "python",
   "name": "python3"
  },
  "language_info": {
   "codemirror_mode": {
    "name": "ipython",
    "version": 3
   },
   "file_extension": ".py",
   "mimetype": "text/x-python",
   "name": "python",
   "nbconvert_exporter": "python",
   "pygments_lexer": "ipython3",
   "version": "3.9.16"
  }
 },
 "nbformat": 4,
 "nbformat_minor": 5
}
