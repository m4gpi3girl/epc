{
 "cells": [
  {
   "cell_type": "code",
   "execution_count": 1,
   "id": "ed4b134f-70da-449c-82a4-c50d47a9ad19",
   "metadata": {
    "tags": []
   },
   "outputs": [],
   "source": [
    "import pandas as pd\n",
    "from fuzzywuzzy import fuzz\n",
    "from itertools import product\n",
    "import numpy as np\n",
    "import re\n",
    "import json\n",
    "import io\n",
    "import string"
   ]
  },
  {
   "cell_type": "code",
   "execution_count": 2,
   "id": "da87d533-fe01-4623-a8d6-9aa63a391b2e",
   "metadata": {
    "tags": []
   },
   "outputs": [],
   "source": [
    "# import charity commission json file as pandas df\n",
    "\n",
    "with io.open(r\"C:\\Users\\Elisha.Zissman\\OneDrive\\Data Projects\\EPC\\combining\\publicextract.charity.json\", 'r', encoding='utf-8-sig') as json_file:  \n",
    "    data = json.load(json_file)\n",
    "\n",
    "cc = pd.DataFrame(data)"
   ]
  },
  {
   "cell_type": "code",
   "execution_count": 3,
   "id": "ed0f3e0d-c463-419c-a406-9b33da7de25b",
   "metadata": {
    "tags": []
   },
   "outputs": [],
   "source": [
    "# import epc file as pandas df\n",
    "\n",
    "epc = pd.read_excel(r\"C:\\Users\\Elisha.Zissman\\OneDrive\\Data Projects\\EPC\\combining\\epc_community.xlsx\")"
   ]
  },
  {
   "cell_type": "code",
   "execution_count": 4,
   "id": "b5e70335-051d-4a4d-8f8e-ca2ff69f90b9",
   "metadata": {
    "tags": []
   },
   "outputs": [
    {
     "data": {
      "text/plain": [
       "['Unnamed: 0.1',\n",
       " 'Unnamed: 0',\n",
       " 'LMK_KEY',\n",
       " 'ADDRESS1',\n",
       " 'ADDRESS2',\n",
       " 'ADDRESS3',\n",
       " 'Postcode',\n",
       " 'BUILDING_REFERENCE_NUMBER',\n",
       " 'ASSET_RATING',\n",
       " 'ASSET_RATING_BAND',\n",
       " 'PROPERTY_TYPE',\n",
       " 'INSPECTION_DATE',\n",
       " 'LOCAL_AUTHORITY',\n",
       " 'CONSTITUENCY',\n",
       " 'COUNTY',\n",
       " 'LODGEMENT_DATE',\n",
       " 'TRANSACTION_TYPE',\n",
       " 'NEW_BUILD_BENCHMARK',\n",
       " 'EXISTING_STOCK_BENCHMARK',\n",
       " 'BUILDING_LEVEL',\n",
       " 'MAIN_HEATING_FUEL',\n",
       " 'OTHER_FUEL_DESC',\n",
       " 'SPECIAL_ENERGY_USES',\n",
       " 'RENEWABLE_SOURCES',\n",
       " 'FLOOR_AREA',\n",
       " 'STANDARD_EMISSIONS',\n",
       " 'TARGET_EMISSIONS',\n",
       " 'TYPICAL_EMISSIONS',\n",
       " 'BUILDING_EMISSIONS',\n",
       " 'AIRCON_PRESENT',\n",
       " 'AIRCON_KW_RATING',\n",
       " 'ESTIMATED_AIRCON_KW_RATING',\n",
       " 'AC_INSPECTION_COMMISSIONED',\n",
       " 'BUILDING_ENVIRONMENT',\n",
       " 'ADDRESS',\n",
       " 'LOCAL_AUTHORITY_LABEL',\n",
       " 'CONSTITUENCY_LABEL',\n",
       " 'POSTTOWN',\n",
       " 'LODGEMENT_DATETIME',\n",
       " 'PRIMARY_ENERGY_VALUE',\n",
       " 'UPRN',\n",
       " 'UPRN_SOURCE',\n",
       " 'community building?']"
      ]
     },
     "execution_count": 4,
     "metadata": {},
     "output_type": "execute_result"
    }
   ],
   "source": [
    "# show epc columns\n",
    "\n",
    "list(epc)"
   ]
  },
  {
   "cell_type": "code",
   "execution_count": 6,
   "id": "a5daff44-0f9e-4e3a-9bdd-377783568ccd",
   "metadata": {
    "tags": []
   },
   "outputs": [
    {
     "data": {
      "text/plain": [
       "['date_of_extract',\n",
       " 'organisation_number',\n",
       " 'registered_charity_number',\n",
       " 'linked_charity_number',\n",
       " 'charity_name',\n",
       " 'charity_type',\n",
       " 'charity_registration_status',\n",
       " 'date_of_registration',\n",
       " 'date_of_removal',\n",
       " 'charity_reporting_status',\n",
       " 'latest_acc_fin_period_start_date',\n",
       " 'latest_acc_fin_period_end_date',\n",
       " 'latest_income',\n",
       " 'latest_expenditure',\n",
       " 'charity_contact_address1',\n",
       " 'charity_contact_address2',\n",
       " 'charity_contact_address3',\n",
       " 'charity_contact_address4',\n",
       " 'charity_contact_address5',\n",
       " 'charity_contact_postcode',\n",
       " 'charity_contact_phone',\n",
       " 'charity_contact_email',\n",
       " 'charity_contact_web',\n",
       " 'charity_company_registration_number',\n",
       " 'charity_insolvent',\n",
       " 'charity_in_administration',\n",
       " 'charity_previously_excepted',\n",
       " 'charity_is_cdf_or_cif',\n",
       " 'charity_is_cio',\n",
       " 'cio_is_dissolved',\n",
       " 'date_cio_dissolution_notice',\n",
       " 'charity_activities',\n",
       " 'charity_gift_aid',\n",
       " 'charity_has_land']"
      ]
     },
     "execution_count": 6,
     "metadata": {},
     "output_type": "execute_result"
    }
   ],
   "source": [
    "# show charity commission columns\n",
    "\n",
    "list(cc)"
   ]
  },
  {
   "cell_type": "code",
   "execution_count": 7,
   "id": "62e1679e-14f5-4758-8e4e-bfedf6ab070d",
   "metadata": {
    "tags": []
   },
   "outputs": [],
   "source": [
    "# concatenate charity address into one column\n",
    "\n",
    "# Assuming cc is a pandas DataFrame\n",
    "cc['ADDRESS'] = cc[['charity_contact_address1', 'charity_contact_address2', 'charity_contact_address3', 'charity_contact_address4', 'charity_contact_address5']].fillna('').apply(\"-\".join, axis=1)\n"
   ]
  },
  {
   "cell_type": "code",
   "execution_count": 8,
   "id": "f381bd27-59c3-4b65-bf72-f0c1c2fe03ce",
   "metadata": {
    "tags": []
   },
   "outputs": [],
   "source": [
    "# rename postcode to match epc \n",
    "\n",
    "cc = cc.rename(columns={'charity_contact_postcode':'Postcode'})"
   ]
  },
  {
   "cell_type": "code",
   "execution_count": 10,
   "id": "4815d9f7-2522-4e7f-a7da-4c9ccaf2e807",
   "metadata": {
    "tags": []
   },
   "outputs": [],
   "source": [
    "# exclude charities that are removed\n",
    "\n",
    "cc = cc[cc['charity_registration_status'] != 'Removed']"
   ]
  },
  {
   "cell_type": "code",
   "execution_count": 15,
   "id": "d9599093-3970-4653-9697-f3b3b9412a53",
   "metadata": {
    "tags": []
   },
   "outputs": [],
   "source": [
    "# all epc certs\n",
    "\n",
    "epc_all = pd.read_csv(r\"C:\\Users\\Elisha.Zissman\\OneDrive\\Data Projects\\EPC\\combining\\epc_data.csv\")"
   ]
  },
  {
   "cell_type": "code",
   "execution_count": 17,
   "id": "ddedb2bc-fb5f-4244-a9a5-e564c1e6227e",
   "metadata": {
    "tags": []
   },
   "outputs": [],
   "source": [
    "# rename postcode\n",
    "\n",
    "epc_all = epc_all.rename(columns={'POSTCODE':'Postcode'})"
   ]
  },
  {
   "cell_type": "code",
   "execution_count": 19,
   "id": "312c2bcf-2af6-4be2-8978-5ac64360114e",
   "metadata": {
    "tags": []
   },
   "outputs": [],
   "source": [
    "# merge and score the matches\n",
    "\n",
    "merged_df2 = pd.merge(epc_all, cc, on='Postcode', how='inner')  # Change 'inner' to 'left' or 'right' if needed\n",
    "\n",
    "# Define a function to calculate the fuzzywuzzy token ratio score\n",
    "def calculate_fuzzy_ratio2(row):\n",
    "    return fuzz.token_set_ratio(row['ADDRESS_x'], row['ADDRESS_y'])\n",
    "\n",
    "# Calculate the fuzzywuzzy token ratio score for each row in the merged dataframe\n",
    "merged_df2['Score'] = merged_df2.apply(calculate_fuzzy_ratio2, axis=1)\n",
    "\n",
    "merged_df2['Score'] = pd.to_numeric(merged_df2['Score'], errors='coerce')\n",
    "\n",
    "# Filter the merged dataframe to include only rows where the score is greater than 70\n",
    "result_df = merged_df2[merged_df2['Score'] > 70]\n"
   ]
  },
  {
   "cell_type": "code",
   "execution_count": 25,
   "id": "21516b04-f262-4b78-9aa6-64fcf86571de",
   "metadata": {
    "tags": []
   },
   "outputs": [],
   "source": [
    "# only results with 100% match\n",
    "\n",
    "result_100 = result_df[result_df['Score'] == 100]"
   ]
  },
  {
   "cell_type": "code",
   "execution_count": 29,
   "id": "0e8b3e03-c0aa-48cc-bf6d-ff0ca161f0d1",
   "metadata": {
    "tags": []
   },
   "outputs": [],
   "source": [
    "MILES_FOR_MEN = result_100[result_100['charity_name'] == 'MILES FOR MEN']"
   ]
  },
  {
   "cell_type": "code",
   "execution_count": 27,
   "id": "b246d65f-9142-4d5d-8261-9b63bfbf9e13",
   "metadata": {
    "tags": []
   },
   "outputs": [
    {
     "data": {
      "text/plain": [
       "['Unnamed: 0',\n",
       " 'LMK_KEY',\n",
       " 'ADDRESS1',\n",
       " 'ADDRESS2',\n",
       " 'ADDRESS3',\n",
       " 'Postcode',\n",
       " 'BUILDING_REFERENCE_NUMBER',\n",
       " 'ASSET_RATING',\n",
       " 'ASSET_RATING_BAND',\n",
       " 'PROPERTY_TYPE',\n",
       " 'INSPECTION_DATE',\n",
       " 'LOCAL_AUTHORITY',\n",
       " 'CONSTITUENCY',\n",
       " 'COUNTY',\n",
       " 'LODGEMENT_DATE',\n",
       " 'TRANSACTION_TYPE',\n",
       " 'NEW_BUILD_BENCHMARK',\n",
       " 'EXISTING_STOCK_BENCHMARK',\n",
       " 'BUILDING_LEVEL',\n",
       " 'MAIN_HEATING_FUEL',\n",
       " 'OTHER_FUEL_DESC',\n",
       " 'SPECIAL_ENERGY_USES',\n",
       " 'RENEWABLE_SOURCES',\n",
       " 'FLOOR_AREA',\n",
       " 'STANDARD_EMISSIONS',\n",
       " 'TARGET_EMISSIONS',\n",
       " 'TYPICAL_EMISSIONS',\n",
       " 'BUILDING_EMISSIONS',\n",
       " 'AIRCON_PRESENT',\n",
       " 'AIRCON_KW_RATING',\n",
       " 'ESTIMATED_AIRCON_KW_RATING',\n",
       " 'AC_INSPECTION_COMMISSIONED',\n",
       " 'BUILDING_ENVIRONMENT',\n",
       " 'ADDRESS_x',\n",
       " 'LOCAL_AUTHORITY_LABEL',\n",
       " 'CONSTITUENCY_LABEL',\n",
       " 'POSTTOWN',\n",
       " 'LODGEMENT_DATETIME',\n",
       " 'PRIMARY_ENERGY_VALUE',\n",
       " 'UPRN',\n",
       " 'UPRN_SOURCE',\n",
       " 'date_of_extract',\n",
       " 'organisation_number',\n",
       " 'registered_charity_number',\n",
       " 'linked_charity_number',\n",
       " 'charity_name',\n",
       " 'charity_type',\n",
       " 'charity_registration_status',\n",
       " 'date_of_registration',\n",
       " 'date_of_removal',\n",
       " 'charity_reporting_status',\n",
       " 'latest_acc_fin_period_start_date',\n",
       " 'latest_acc_fin_period_end_date',\n",
       " 'latest_income',\n",
       " 'latest_expenditure',\n",
       " 'charity_contact_address1',\n",
       " 'charity_contact_address2',\n",
       " 'charity_contact_address3',\n",
       " 'charity_contact_address4',\n",
       " 'charity_contact_address5',\n",
       " 'charity_contact_phone',\n",
       " 'charity_contact_email',\n",
       " 'charity_contact_web',\n",
       " 'charity_company_registration_number',\n",
       " 'charity_insolvent',\n",
       " 'charity_in_administration',\n",
       " 'charity_previously_excepted',\n",
       " 'charity_is_cdf_or_cif',\n",
       " 'charity_is_cio',\n",
       " 'cio_is_dissolved',\n",
       " 'date_cio_dissolution_notice',\n",
       " 'charity_activities',\n",
       " 'charity_gift_aid',\n",
       " 'charity_has_land',\n",
       " 'ADDRESS_y',\n",
       " 'Score']"
      ]
     },
     "execution_count": 27,
     "metadata": {},
     "output_type": "execute_result"
    }
   ],
   "source": [
    "list(result_100)"
   ]
  },
  {
   "cell_type": "code",
   "execution_count": 28,
   "id": "a14fc0b3-7d98-4418-9fd5-38223337e118",
   "metadata": {
    "tags": []
   },
   "outputs": [
    {
     "data": {
      "text/plain": [
       "array(['MILES FOR MEN', 'FC HARTLEPOOL',\n",
       "       'P.R.O.P. - PEOPLES RELIEF OF PRESSURE', ...,\n",
       "       'CWM TAF MORGANNWG MIND', '3GS DEVELOPMENT TRUST',\n",
       "       'FOOTSTEPS TO FAMILY CONNECTIONS'], dtype=object)"
      ]
     },
     "execution_count": 28,
     "metadata": {},
     "output_type": "execute_result"
    }
   ],
   "source": [
    "result_100['charity_name'].unique()"
   ]
  },
  {
   "cell_type": "code",
   "execution_count": 30,
   "id": "51317e94-d55b-40f4-a8c2-d549c89bd2cf",
   "metadata": {
    "tags": []
   },
   "outputs": [
    {
     "data": {
      "text/html": [
       "<div>\n",
       "<style scoped>\n",
       "    .dataframe tbody tr th:only-of-type {\n",
       "        vertical-align: middle;\n",
       "    }\n",
       "\n",
       "    .dataframe tbody tr th {\n",
       "        vertical-align: top;\n",
       "    }\n",
       "\n",
       "    .dataframe thead th {\n",
       "        text-align: right;\n",
       "    }\n",
       "</style>\n",
       "<table border=\"1\" class=\"dataframe\">\n",
       "  <thead>\n",
       "    <tr style=\"text-align: right;\">\n",
       "      <th></th>\n",
       "      <th>Unnamed: 0</th>\n",
       "      <th>LMK_KEY</th>\n",
       "      <th>ADDRESS1</th>\n",
       "      <th>ADDRESS2</th>\n",
       "      <th>ADDRESS3</th>\n",
       "      <th>Postcode</th>\n",
       "      <th>BUILDING_REFERENCE_NUMBER</th>\n",
       "      <th>ASSET_RATING</th>\n",
       "      <th>ASSET_RATING_BAND</th>\n",
       "      <th>PROPERTY_TYPE</th>\n",
       "      <th>...</th>\n",
       "      <th>charity_previously_excepted</th>\n",
       "      <th>charity_is_cdf_or_cif</th>\n",
       "      <th>charity_is_cio</th>\n",
       "      <th>cio_is_dissolved</th>\n",
       "      <th>date_cio_dissolution_notice</th>\n",
       "      <th>charity_activities</th>\n",
       "      <th>charity_gift_aid</th>\n",
       "      <th>charity_has_land</th>\n",
       "      <th>ADDRESS_y</th>\n",
       "      <th>Score</th>\n",
       "    </tr>\n",
       "  </thead>\n",
       "  <tbody>\n",
       "    <tr>\n",
       "      <th>48</th>\n",
       "      <td>1342</td>\n",
       "      <td>ae3e91c8672f18118c5b8209ad37bb15763c66adb87a4e...</td>\n",
       "      <td>MIDDLETON GRANGE SHOPPING CENTRE</td>\n",
       "      <td>MIDDLETON GRANGE SHOPPING CENTRE</td>\n",
       "      <td>HARTLEPOOL</td>\n",
       "      <td>TS24 7RZ</td>\n",
       "      <td>10000859357</td>\n",
       "      <td>100</td>\n",
       "      <td>D</td>\n",
       "      <td>A1/A2 Retail and Financial/Professional services</td>\n",
       "      <td>...</td>\n",
       "      <td>False</td>\n",
       "      <td>None</td>\n",
       "      <td>False</td>\n",
       "      <td>False</td>\n",
       "      <td>None</td>\n",
       "      <td>For the public benefit provide facilities and ...</td>\n",
       "      <td>False</td>\n",
       "      <td>True</td>\n",
       "      <td>UNIT 135-Middleton Grange Shopping centre-HART...</td>\n",
       "      <td>100</td>\n",
       "    </tr>\n",
       "  </tbody>\n",
       "</table>\n",
       "<p>1 rows × 76 columns</p>\n",
       "</div>"
      ],
      "text/plain": [
       "    Unnamed: 0                                            LMK_KEY  \\\n",
       "48        1342  ae3e91c8672f18118c5b8209ad37bb15763c66adb87a4e...   \n",
       "\n",
       "                            ADDRESS1                          ADDRESS2  \\\n",
       "48  MIDDLETON GRANGE SHOPPING CENTRE  MIDDLETON GRANGE SHOPPING CENTRE   \n",
       "\n",
       "      ADDRESS3  Postcode  BUILDING_REFERENCE_NUMBER  ASSET_RATING  \\\n",
       "48  HARTLEPOOL  TS24 7RZ                10000859357           100   \n",
       "\n",
       "   ASSET_RATING_BAND                                     PROPERTY_TYPE  ...  \\\n",
       "48                 D  A1/A2 Retail and Financial/Professional services  ...   \n",
       "\n",
       "   charity_previously_excepted charity_is_cdf_or_cif charity_is_cio  \\\n",
       "48                       False                  None          False   \n",
       "\n",
       "   cio_is_dissolved date_cio_dissolution_notice  \\\n",
       "48            False                        None   \n",
       "\n",
       "                                   charity_activities  charity_gift_aid  \\\n",
       "48  For the public benefit provide facilities and ...             False   \n",
       "\n",
       "    charity_has_land                                          ADDRESS_y Score  \n",
       "48              True  UNIT 135-Middleton Grange Shopping centre-HART...   100  \n",
       "\n",
       "[1 rows x 76 columns]"
      ]
     },
     "execution_count": 30,
     "metadata": {},
     "output_type": "execute_result"
    }
   ],
   "source": [
    "MILES_FOR_MEN"
   ]
  },
  {
   "cell_type": "code",
   "execution_count": 31,
   "id": "d761afa2-c415-4ab3-9bdf-d53b264a51de",
   "metadata": {
    "tags": []
   },
   "outputs": [],
   "source": [
    "FC_HARTLEPOOL = result_100[result_100['charity_name'] == 'FC HARTLEPOOL']"
   ]
  },
  {
   "cell_type": "code",
   "execution_count": 32,
   "id": "3a71c9f7-fdc4-4fbf-b018-4591c7c8fcdb",
   "metadata": {
    "tags": []
   },
   "outputs": [
    {
     "data": {
      "text/html": [
       "<div>\n",
       "<style scoped>\n",
       "    .dataframe tbody tr th:only-of-type {\n",
       "        vertical-align: middle;\n",
       "    }\n",
       "\n",
       "    .dataframe tbody tr th {\n",
       "        vertical-align: top;\n",
       "    }\n",
       "\n",
       "    .dataframe thead th {\n",
       "        text-align: right;\n",
       "    }\n",
       "</style>\n",
       "<table border=\"1\" class=\"dataframe\">\n",
       "  <thead>\n",
       "    <tr style=\"text-align: right;\">\n",
       "      <th></th>\n",
       "      <th>Unnamed: 0</th>\n",
       "      <th>LMK_KEY</th>\n",
       "      <th>ADDRESS1</th>\n",
       "      <th>ADDRESS2</th>\n",
       "      <th>ADDRESS3</th>\n",
       "      <th>Postcode</th>\n",
       "      <th>BUILDING_REFERENCE_NUMBER</th>\n",
       "      <th>ASSET_RATING</th>\n",
       "      <th>ASSET_RATING_BAND</th>\n",
       "      <th>PROPERTY_TYPE</th>\n",
       "      <th>...</th>\n",
       "      <th>charity_previously_excepted</th>\n",
       "      <th>charity_is_cdf_or_cif</th>\n",
       "      <th>charity_is_cio</th>\n",
       "      <th>cio_is_dissolved</th>\n",
       "      <th>date_cio_dissolution_notice</th>\n",
       "      <th>charity_activities</th>\n",
       "      <th>charity_gift_aid</th>\n",
       "      <th>charity_has_land</th>\n",
       "      <th>ADDRESS_y</th>\n",
       "      <th>Score</th>\n",
       "    </tr>\n",
       "  </thead>\n",
       "  <tbody>\n",
       "    <tr>\n",
       "      <th>133</th>\n",
       "      <td>222</td>\n",
       "      <td>139050080962018102914230012200190</td>\n",
       "      <td>NaN</td>\n",
       "      <td>Censis</td>\n",
       "      <td>66 Church Street</td>\n",
       "      <td>TS24 7DN</td>\n",
       "      <td>918488240000</td>\n",
       "      <td>82</td>\n",
       "      <td>D</td>\n",
       "      <td>A1/A2 Retail and Financial/Professional services</td>\n",
       "      <td>...</td>\n",
       "      <td>False</td>\n",
       "      <td>None</td>\n",
       "      <td>True</td>\n",
       "      <td>False</td>\n",
       "      <td>None</td>\n",
       "      <td>The object of the CIO is the promotion of comm...</td>\n",
       "      <td>True</td>\n",
       "      <td>True</td>\n",
       "      <td>Salaam Shaheen C/O CENSIS-66 CHURCH STREET-HAR...</td>\n",
       "      <td>100</td>\n",
       "    </tr>\n",
       "  </tbody>\n",
       "</table>\n",
       "<p>1 rows × 76 columns</p>\n",
       "</div>"
      ],
      "text/plain": [
       "     Unnamed: 0                            LMK_KEY ADDRESS1 ADDRESS2  \\\n",
       "133         222  139050080962018102914230012200190      NaN   Censis   \n",
       "\n",
       "             ADDRESS3  Postcode  BUILDING_REFERENCE_NUMBER  ASSET_RATING  \\\n",
       "133  66 Church Street  TS24 7DN               918488240000            82   \n",
       "\n",
       "    ASSET_RATING_BAND                                     PROPERTY_TYPE  ...  \\\n",
       "133                 D  A1/A2 Retail and Financial/Professional services  ...   \n",
       "\n",
       "    charity_previously_excepted charity_is_cdf_or_cif charity_is_cio  \\\n",
       "133                       False                  None           True   \n",
       "\n",
       "    cio_is_dissolved date_cio_dissolution_notice  \\\n",
       "133            False                        None   \n",
       "\n",
       "                                    charity_activities  charity_gift_aid  \\\n",
       "133  The object of the CIO is the promotion of comm...              True   \n",
       "\n",
       "     charity_has_land                                          ADDRESS_y Score  \n",
       "133              True  Salaam Shaheen C/O CENSIS-66 CHURCH STREET-HAR...   100  \n",
       "\n",
       "[1 rows x 76 columns]"
      ]
     },
     "execution_count": 32,
     "metadata": {},
     "output_type": "execute_result"
    }
   ],
   "source": [
    "FC_HARTLEPOOL"
   ]
  },
  {
   "cell_type": "code",
   "execution_count": 33,
   "id": "93b35c3b-b1dc-414a-b4f0-4156e883c499",
   "metadata": {
    "tags": []
   },
   "outputs": [],
   "source": [
    "A_3GS_DEVELOPMENT_TRUST = result_100[result_100['charity_name'] == '3GS DEVELOPMENT TRUST']"
   ]
  },
  {
   "cell_type": "code",
   "execution_count": 34,
   "id": "4030f94d-112d-42b0-912d-0f1ccbf83327",
   "metadata": {
    "tags": []
   },
   "outputs": [
    {
     "data": {
      "text/html": [
       "<div>\n",
       "<style scoped>\n",
       "    .dataframe tbody tr th:only-of-type {\n",
       "        vertical-align: middle;\n",
       "    }\n",
       "\n",
       "    .dataframe tbody tr th {\n",
       "        vertical-align: top;\n",
       "    }\n",
       "\n",
       "    .dataframe thead th {\n",
       "        text-align: right;\n",
       "    }\n",
       "</style>\n",
       "<table border=\"1\" class=\"dataframe\">\n",
       "  <thead>\n",
       "    <tr style=\"text-align: right;\">\n",
       "      <th></th>\n",
       "      <th>Unnamed: 0</th>\n",
       "      <th>LMK_KEY</th>\n",
       "      <th>ADDRESS1</th>\n",
       "      <th>ADDRESS2</th>\n",
       "      <th>ADDRESS3</th>\n",
       "      <th>Postcode</th>\n",
       "      <th>BUILDING_REFERENCE_NUMBER</th>\n",
       "      <th>ASSET_RATING</th>\n",
       "      <th>ASSET_RATING_BAND</th>\n",
       "      <th>PROPERTY_TYPE</th>\n",
       "      <th>...</th>\n",
       "      <th>charity_previously_excepted</th>\n",
       "      <th>charity_is_cdf_or_cif</th>\n",
       "      <th>charity_is_cio</th>\n",
       "      <th>cio_is_dissolved</th>\n",
       "      <th>date_cio_dissolution_notice</th>\n",
       "      <th>charity_activities</th>\n",
       "      <th>charity_gift_aid</th>\n",
       "      <th>charity_has_land</th>\n",
       "      <th>ADDRESS_y</th>\n",
       "      <th>Score</th>\n",
       "    </tr>\n",
       "  </thead>\n",
       "  <tbody>\n",
       "    <tr>\n",
       "      <th>384048</th>\n",
       "      <td>1274491</td>\n",
       "      <td>156345270022020072410142807230210</td>\n",
       "      <td>NaN</td>\n",
       "      <td>15 Chestnut Way</td>\n",
       "      <td>NaN</td>\n",
       "      <td>CF47 9SB</td>\n",
       "      <td>100479740000</td>\n",
       "      <td>67</td>\n",
       "      <td>C</td>\n",
       "      <td>B1 Offices and Workshop businesses</td>\n",
       "      <td>...</td>\n",
       "      <td>False</td>\n",
       "      <td>None</td>\n",
       "      <td>False</td>\n",
       "      <td>False</td>\n",
       "      <td>None</td>\n",
       "      <td>We are the main delivery organisation for the ...</td>\n",
       "      <td>False</td>\n",
       "      <td>True</td>\n",
       "      <td>3 G's Development Trust-15 Chestnut Way-MERTHY...</td>\n",
       "      <td>100</td>\n",
       "    </tr>\n",
       "  </tbody>\n",
       "</table>\n",
       "<p>1 rows × 76 columns</p>\n",
       "</div>"
      ],
      "text/plain": [
       "        Unnamed: 0                            LMK_KEY ADDRESS1  \\\n",
       "384048     1274491  156345270022020072410142807230210      NaN   \n",
       "\n",
       "               ADDRESS2 ADDRESS3  Postcode  BUILDING_REFERENCE_NUMBER  \\\n",
       "384048  15 Chestnut Way      NaN  CF47 9SB               100479740000   \n",
       "\n",
       "        ASSET_RATING ASSET_RATING_BAND                       PROPERTY_TYPE  \\\n",
       "384048            67                 C  B1 Offices and Workshop businesses   \n",
       "\n",
       "        ... charity_previously_excepted charity_is_cdf_or_cif charity_is_cio  \\\n",
       "384048  ...                       False                  None          False   \n",
       "\n",
       "       cio_is_dissolved date_cio_dissolution_notice  \\\n",
       "384048            False                        None   \n",
       "\n",
       "                                       charity_activities  charity_gift_aid  \\\n",
       "384048  We are the main delivery organisation for the ...             False   \n",
       "\n",
       "        charity_has_land                                          ADDRESS_y  \\\n",
       "384048              True  3 G's Development Trust-15 Chestnut Way-MERTHY...   \n",
       "\n",
       "       Score  \n",
       "384048   100  \n",
       "\n",
       "[1 rows x 76 columns]"
      ]
     },
     "execution_count": 34,
     "metadata": {},
     "output_type": "execute_result"
    }
   ],
   "source": [
    "A_3GS_DEVELOPMENT_TRUST"
   ]
  },
  {
   "cell_type": "code",
   "execution_count": 35,
   "id": "fe42b860-8d5a-4d34-b1c1-a7b3ced499e2",
   "metadata": {
    "tags": []
   },
   "outputs": [],
   "source": [
    "result_100.to_excel('newres.xlsx')"
   ]
  },
  {
   "cell_type": "code",
   "execution_count": null,
   "id": "cea41987-1f58-4be9-985c-ab26268f326e",
   "metadata": {},
   "outputs": [],
   "source": []
  }
 ],
 "metadata": {
  "kernelspec": {
   "display_name": "Python 3 (ipykernel)",
   "language": "python",
   "name": "python3"
  },
  "language_info": {
   "codemirror_mode": {
    "name": "ipython",
    "version": 3
   },
   "file_extension": ".py",
   "mimetype": "text/x-python",
   "name": "python",
   "nbconvert_exporter": "python",
   "pygments_lexer": "ipython3",
   "version": "3.9.16"
  }
 },
 "nbformat": 4,
 "nbformat_minor": 5
}
