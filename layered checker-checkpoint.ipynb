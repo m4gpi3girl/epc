{
 "cells": [
  {
   "cell_type": "code",
   "execution_count": 1,
   "id": "e976286b-580a-4910-9c9a-44ad683a3b6d",
   "metadata": {
    "tags": []
   },
   "outputs": [],
   "source": [
    "# import packages \n",
    "\n",
    "import pandas as pd\n",
    "import numpy as np\n",
    "import re\n",
    "import string\n",
    "from fuzzywuzzy import fuzz"
   ]
  },
  {
   "cell_type": "code",
   "execution_count": null,
   "id": "c00da8a9-1f31-4a24-bd4d-37d8b6db85fb",
   "metadata": {},
   "outputs": [],
   "source": [
    "# function for extracting integers\n",
    "\n",
    "def extract_integers(text):\n",
    "    if isinstance(text, str):\n",
    "        integers = re.findall(r'\\d+', text)\n",
    "        return integers if integers else [None]\n",
    "    else:\n",
    "        return [text] if pd.notna(text) else [None]\n",
    "    \n",
    "    \n",
    "\n",
    "# function for removing integers and punctuation\n",
    "\n",
    "def remove_digits_and_punctuation(text):\n",
    "    translator = str.maketrans('', '', string.digits + string.punctuation)\n",
    "    return text.translate(translator)\n",
    "\n",
    "\n",
    "\n",
    "# function for performing fuzzywuzzy test on addresses\n",
    "\n",
    "def calculate_similarity(row):\n",
    "    address1 = row['Cleaned_Address']\n",
    "    address2 = row['Cleaned_Address2']\n",
    "    return fuzz.token_sort_ratio(address1, address2)"
   ]
  },
  {
   "cell_type": "code",
   "execution_count": 2,
   "id": "1f72c980-5900-40fb-8386-d6c2c3db2943",
   "metadata": {
    "tags": []
   },
   "outputs": [],
   "source": [
    "# import data\n",
    "\n",
    "epc = pd.read_csv('../epcdata.csv')\n",
    "\n",
    "yif = pd.read_excel('../yifsites.xlsx')\n",
    "\n",
    "cc = pd.read_"
   ]
  },
  {
   "cell_type": "code",
   "execution_count": null,
   "id": "43a8a519-31c4-4a32-a9fe-0d93ba6a7a8a",
   "metadata": {},
   "outputs": [],
   "source": [
    "# clean data\n"
   ]
  },
  {
   "cell_type": "code",
   "execution_count": null,
   "id": "9724aa01-5e89-4286-a280-d380630e10f9",
   "metadata": {},
   "outputs": [],
   "source": [
    "# rename columns\n",
    "# add integer columns\n",
    "# clean address column\n",
    "# true count for integers column\n",
    "# fuzzy score"
   ]
  },
  {
   "cell_type": "code",
   "execution_count": null,
   "id": "57fe39ec-9954-442e-b48b-cd016c49b952",
   "metadata": {},
   "outputs": [],
   "source": [
    "# merge data\n"
   ]
  },
  {
   "cell_type": "code",
   "execution_count": null,
   "id": "163efc44-b643-460b-b1ff-70abe2fe69fb",
   "metadata": {},
   "outputs": [],
   "source": [
    "# perform functions on data\n"
   ]
  },
  {
   "cell_type": "code",
   "execution_count": null,
   "id": "79cde42c-b137-4e36-aa40-ebe441c9a877",
   "metadata": {},
   "outputs": [],
   "source": [
    "# convert to excel\n"
   ]
  }
 ],
 "metadata": {
  "kernelspec": {
   "display_name": "Python 3 (ipykernel)",
   "language": "python",
   "name": "python3"
  },
  "language_info": {
   "codemirror_mode": {
    "name": "ipython",
    "version": 3
   },
   "file_extension": ".py",
   "mimetype": "text/x-python",
   "name": "python",
   "nbconvert_exporter": "python",
   "pygments_lexer": "ipython3",
   "version": "3.9.16"
  }
 },
 "nbformat": 4,
 "nbformat_minor": 5
}
